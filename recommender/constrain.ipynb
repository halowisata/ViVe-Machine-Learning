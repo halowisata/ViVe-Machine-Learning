{
 "cells": [
  {
   "cell_type": "code",
   "execution_count": 44,
   "metadata": {},
   "outputs": [],
   "source": [
    "import pandas as pd"
   ]
  },
  {
   "cell_type": "code",
   "execution_count": 45,
   "metadata": {},
   "outputs": [],
   "source": [
    "from collections import defaultdict"
   ]
  },
  {
   "cell_type": "code",
   "execution_count": 46,
   "metadata": {},
   "outputs": [
    {
     "data": {
      "text/html": [
       "<div>\n",
       "<style scoped>\n",
       "    .dataframe tbody tr th:only-of-type {\n",
       "        vertical-align: middle;\n",
       "    }\n",
       "\n",
       "    .dataframe tbody tr th {\n",
       "        vertical-align: top;\n",
       "    }\n",
       "\n",
       "    .dataframe thead th {\n",
       "        text-align: right;\n",
       "    }\n",
       "</style>\n",
       "<table border=\"1\" class=\"dataframe\">\n",
       "  <thead>\n",
       "    <tr style=\"text-align: right;\">\n",
       "      <th></th>\n",
       "      <th>Place_Id</th>\n",
       "      <th>Place_Name</th>\n",
       "      <th>Description</th>\n",
       "      <th>City</th>\n",
       "      <th>Price</th>\n",
       "      <th>Rating</th>\n",
       "      <th>Time_Minutes</th>\n",
       "      <th>Coordinate</th>\n",
       "      <th>Lat</th>\n",
       "      <th>Long</th>\n",
       "      <th>new_category</th>\n",
       "    </tr>\n",
       "  </thead>\n",
       "  <tbody>\n",
       "    <tr>\n",
       "      <th>0</th>\n",
       "      <td>1</td>\n",
       "      <td>Monumen Nasional</td>\n",
       "      <td>Monumen Nasional atau yang populer disingkat d...</td>\n",
       "      <td>Jakarta</td>\n",
       "      <td>20000</td>\n",
       "      <td>4.6</td>\n",
       "      <td>15.0</td>\n",
       "      <td>{'lat': -6.1753924, 'lng': 106.8271528}</td>\n",
       "      <td>-6.175392</td>\n",
       "      <td>106.827153</td>\n",
       "      <td>['Budaya', 'Keluarga']</td>\n",
       "    </tr>\n",
       "    <tr>\n",
       "      <th>1</th>\n",
       "      <td>2</td>\n",
       "      <td>Kota Tua</td>\n",
       "      <td>Kota tua di Jakarta, yang juga bernama Kota Tu...</td>\n",
       "      <td>Jakarta</td>\n",
       "      <td>0</td>\n",
       "      <td>4.6</td>\n",
       "      <td>90.0</td>\n",
       "      <td>{'lat': -6.137644799999999, 'lng': 106.8171245}</td>\n",
       "      <td>-6.137645</td>\n",
       "      <td>106.817125</td>\n",
       "      <td>['Budaya']</td>\n",
       "    </tr>\n",
       "    <tr>\n",
       "      <th>2</th>\n",
       "      <td>3</td>\n",
       "      <td>Dunia Fantasi</td>\n",
       "      <td>Dunia Fantasi atau disebut juga Dufan adalah t...</td>\n",
       "      <td>Jakarta</td>\n",
       "      <td>270000</td>\n",
       "      <td>4.6</td>\n",
       "      <td>360.0</td>\n",
       "      <td>{'lat': -6.125312399999999, 'lng': 106.8335377}</td>\n",
       "      <td>-6.125312</td>\n",
       "      <td>106.833538</td>\n",
       "      <td>['Hiburan', 'Keluarga']</td>\n",
       "    </tr>\n",
       "    <tr>\n",
       "      <th>3</th>\n",
       "      <td>4</td>\n",
       "      <td>Taman Mini Indonesia Indah (TMII)</td>\n",
       "      <td>Taman Mini Indonesia Indah merupakan suatu kaw...</td>\n",
       "      <td>Jakarta</td>\n",
       "      <td>10000</td>\n",
       "      <td>4.5</td>\n",
       "      <td>NaN</td>\n",
       "      <td>{'lat': -6.302445899999999, 'lng': 106.8951559}</td>\n",
       "      <td>-6.302446</td>\n",
       "      <td>106.895156</td>\n",
       "      <td>['Budaya', 'Hiburan']</td>\n",
       "    </tr>\n",
       "    <tr>\n",
       "      <th>4</th>\n",
       "      <td>5</td>\n",
       "      <td>Atlantis Water Adventure</td>\n",
       "      <td>Atlantis Water Adventure atau dikenal dengan A...</td>\n",
       "      <td>Jakarta</td>\n",
       "      <td>94000</td>\n",
       "      <td>4.5</td>\n",
       "      <td>60.0</td>\n",
       "      <td>{'lat': -6.12419, 'lng': 106.839134}</td>\n",
       "      <td>-6.124190</td>\n",
       "      <td>106.839134</td>\n",
       "      <td>['Petualangan', 'Hiburan']</td>\n",
       "    </tr>\n",
       "  </tbody>\n",
       "</table>\n",
       "</div>"
      ],
      "text/plain": [
       "   Place_Id                         Place_Name  \\\n",
       "0         1                   Monumen Nasional   \n",
       "1         2                           Kota Tua   \n",
       "2         3                      Dunia Fantasi   \n",
       "3         4  Taman Mini Indonesia Indah (TMII)   \n",
       "4         5           Atlantis Water Adventure   \n",
       "\n",
       "                                         Description     City   Price  Rating  \\\n",
       "0  Monumen Nasional atau yang populer disingkat d...  Jakarta   20000     4.6   \n",
       "1  Kota tua di Jakarta, yang juga bernama Kota Tu...  Jakarta       0     4.6   \n",
       "2  Dunia Fantasi atau disebut juga Dufan adalah t...  Jakarta  270000     4.6   \n",
       "3  Taman Mini Indonesia Indah merupakan suatu kaw...  Jakarta   10000     4.5   \n",
       "4  Atlantis Water Adventure atau dikenal dengan A...  Jakarta   94000     4.5   \n",
       "\n",
       "   Time_Minutes                                       Coordinate       Lat  \\\n",
       "0          15.0          {'lat': -6.1753924, 'lng': 106.8271528} -6.175392   \n",
       "1          90.0  {'lat': -6.137644799999999, 'lng': 106.8171245} -6.137645   \n",
       "2         360.0  {'lat': -6.125312399999999, 'lng': 106.8335377} -6.125312   \n",
       "3           NaN  {'lat': -6.302445899999999, 'lng': 106.8951559} -6.302446   \n",
       "4          60.0             {'lat': -6.12419, 'lng': 106.839134} -6.124190   \n",
       "\n",
       "         Long                new_category  \n",
       "0  106.827153      ['Budaya', 'Keluarga']  \n",
       "1  106.817125                  ['Budaya']  \n",
       "2  106.833538     ['Hiburan', 'Keluarga']  \n",
       "3  106.895156       ['Budaya', 'Hiburan']  \n",
       "4  106.839134  ['Petualangan', 'Hiburan']  "
      ]
     },
     "execution_count": 46,
     "metadata": {},
     "output_type": "execute_result"
    }
   ],
   "source": [
    "data = pd.read_csv(\"D:/NaNa/kuliah/BANGKIT/capstone/ViVe-Machine-Learning/data/datasets/updated/tourism_with_id_updated.csv\")\n",
    "data.head(5)"
   ]
  },
  {
   "cell_type": "code",
   "execution_count": 47,
   "metadata": {},
   "outputs": [],
   "source": [
    "mood_category = {\n",
    "    'happy' : ['Petualangan', 'Keluarga', 'Romantis', 'Budaya', 'Sejarah'],\n",
    "    'sad' : ['Petualangan', 'Keluarga', 'Romantis', 'Budaya', 'Sejarah'],\n",
    "    'calm' : ['Alam', 'Hiburan', 'Olahraga', 'Relaksasi'],\n",
    "    'angry' : ['Alam', 'Hiburan', 'Olahraga', 'Relaksasi']\n",
    "}"
   ]
  },
  {
   "cell_type": "code",
   "execution_count": 48,
   "metadata": {},
   "outputs": [],
   "source": [
    "def place_recommendation(mood, city, price):\n",
    "    if mood not in mood_category:\n",
    "        print(\"Error: Invalid Mood\")\n",
    "        return\n",
    "    \n",
    "    filter = data.loc[(data['City'] == city) & (data['Price'] <= price) & (data['new_category'].isin(mood_category[mood]))]\n",
    "    \n",
    "    if filter.empty:\n",
    "        print(\"Error: No Recomendation\")\n",
    "    else:\n",
    "        print(\"Recommendation:\")\n",
    "        for index, place_recommendation in filter.iterrows():\n",
    "            print(\"Place Name:\", place_recommendation['Place_Name'])\n",
    "            print(\"City:\", place_recommendation['City'])\n",
    "            print(\"Rating:\", place_recommendation['Rating'])"
   ]
  },
  {
   "cell_type": "code",
   "execution_count": 49,
   "metadata": {},
   "outputs": [
    {
     "name": "stdout",
     "output_type": "stream",
     "text": [
      "Error: No Recomendation\n",
      "None\n"
     ]
    }
   ],
   "source": [
    "print(place_recommendation('happy', 'Jakarta', int(100000)))"
   ]
  },
  {
   "attachments": {},
   "cell_type": "markdown",
   "metadata": {},
   "source": []
  }
 ],
 "metadata": {
  "kernelspec": {
   "display_name": "Python 3",
   "language": "python",
   "name": "python3"
  },
  "language_info": {
   "codemirror_mode": {
    "name": "ipython",
    "version": 3
   },
   "file_extension": ".py",
   "mimetype": "text/x-python",
   "name": "python",
   "nbconvert_exporter": "python",
   "pygments_lexer": "ipython3",
   "version": "3.10.2"
  },
  "orig_nbformat": 4
 },
 "nbformat": 4,
 "nbformat_minor": 2
}
