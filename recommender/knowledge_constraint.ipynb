{
 "cells": [
  {
   "attachments": {},
   "cell_type": "markdown",
   "metadata": {},
   "source": [
    "## this is the recommendation based on constraint"
   ]
  },
  {
   "cell_type": "code",
   "execution_count": 135,
   "metadata": {},
   "outputs": [],
   "source": [
    "import pandas as pd"
   ]
  },
  {
   "cell_type": "code",
   "execution_count": 136,
   "metadata": {},
   "outputs": [],
   "source": [
    "df = pd.read_csv(\"../data/datasets/updated/tourism_with_id_updated.csv\")"
   ]
  },
  {
   "cell_type": "code",
   "execution_count": 137,
   "metadata": {},
   "outputs": [],
   "source": [
    "# knowledge based on paper\n",
    "def mood_constraint(mood):\n",
    "    mood = mood.capitalize()\n",
    "    if mood == \"Senang\" or mood == \"Sedih\":\n",
    "        preferences = [\"Petualangan\", \"Keluarga\", \"Romantis\", \"Budaya\"]\n",
    "    elif mood == \"Tenang\" or mood == \"Marah\":\n",
    "        preferences = [\"Alam\", \"Hiburan\", \"Olahraga\", \"Relaksasi\"]\n",
    "    \n",
    "    return preferences"
   ]
  },
  {
   "cell_type": "code",
   "execution_count": 138,
   "metadata": {},
   "outputs": [],
   "source": [
    "def filter_by_budget(df, column_name, category):\n",
    "    category = category.capitalize()\n",
    "    quartiles = df[column_name].quantile([0.25, 0.5, 0.75])\n",
    "    q1 = quartiles[0.25]\n",
    "    q2 = quartiles[0.5]\n",
    "    q3 = quartiles[0.75]\n",
    "\n",
    "    if category == \"Low\":\n",
    "        filtered_df = df[df[column_name] <= q1]\n",
    "    elif category == \"Medium\":\n",
    "        filtered_df = df[(df[column_name] > q1) & (df[column_name] <= q2)]\n",
    "    elif category == \"High\":\n",
    "        filtered_df = df[((df[column_name] > q2) & (df[column_name] <= q3)) | (df[column_name] > q3) ]\n",
    "    elif category == \"Random\":\n",
    "        filtered_df = df\n",
    "    else:\n",
    "        filtered_df = []\n",
    "\n",
    "    return filtered_df"
   ]
  },
  {
   "cell_type": "code",
   "execution_count": 139,
   "metadata": {},
   "outputs": [],
   "source": [
    "def filter_by_city(df, city):\n",
    "    city = city.capitalize()\n",
    "    filtered_df = df[df[\"City\"] == city]\n",
    "    return filtered_df"
   ]
  },
  {
   "cell_type": "code",
   "execution_count": 140,
   "metadata": {},
   "outputs": [],
   "source": [
    "def knowledge_recommender(df, mood, budget, city):\n",
    "    recommended_destinations = []\n",
    "    \n",
    "    mood_preferences = mood_constraint(mood)\n",
    "    \n",
    "    # filter dataset based on budget\n",
    "    filtered_df = filter_by_budget(df,\"Price\",budget)\n",
    "\n",
    "    # filter dataset based on city\n",
    "    filtered_df = filter_by_city(filtered_df,city)\n",
    "\n",
    "    #print(filtered_df)\n",
    "    recommended_destinations = filtered_df[filtered_df[\"new_category\"].apply(lambda x: any(preference in x for preference in mood_preferences))]\n",
    "\n",
    "    \n",
    "    return recommended_destinations"
   ]
  },
  {
   "cell_type": "code",
   "execution_count": 152,
   "metadata": {},
   "outputs": [],
   "source": [
    "test = knowledge_recommender(df, 'Tenang', 'High', \"Bandung\")"
   ]
  },
  {
   "cell_type": "code",
   "execution_count": 153,
   "metadata": {},
   "outputs": [
    {
     "data": {
      "text/html": [
       "<div>\n",
       "<style scoped>\n",
       "    .dataframe tbody tr th:only-of-type {\n",
       "        vertical-align: middle;\n",
       "    }\n",
       "\n",
       "    .dataframe tbody tr th {\n",
       "        vertical-align: top;\n",
       "    }\n",
       "\n",
       "    .dataframe thead th {\n",
       "        text-align: right;\n",
       "    }\n",
       "</style>\n",
       "<table border=\"1\" class=\"dataframe\">\n",
       "  <thead>\n",
       "    <tr style=\"text-align: right;\">\n",
       "      <th></th>\n",
       "      <th>Place_Id</th>\n",
       "      <th>Place_Name</th>\n",
       "      <th>Description</th>\n",
       "      <th>City</th>\n",
       "      <th>Price</th>\n",
       "      <th>Rating</th>\n",
       "      <th>Time_Minutes</th>\n",
       "      <th>Coordinate</th>\n",
       "      <th>Lat</th>\n",
       "      <th>Long</th>\n",
       "      <th>new_category</th>\n",
       "    </tr>\n",
       "  </thead>\n",
       "  <tbody>\n",
       "    <tr>\n",
       "      <th>210</th>\n",
       "      <td>211</td>\n",
       "      <td>Gunung Tangkuban Parahu</td>\n",
       "      <td>Gunung Tangkuban Parahu adalah salah satu gunu...</td>\n",
       "      <td>Bandung</td>\n",
       "      <td>30000</td>\n",
       "      <td>4.5</td>\n",
       "      <td>NaN</td>\n",
       "      <td>{'lat': -6.759637700000001, 'lng': 107.6097807}</td>\n",
       "      <td>-6.759638</td>\n",
       "      <td>107.609781</td>\n",
       "      <td>['Alam', 'Petualangan']</td>\n",
       "    </tr>\n",
       "    <tr>\n",
       "      <th>213</th>\n",
       "      <td>214</td>\n",
       "      <td>Trans Studio Bandung</td>\n",
       "      <td>Trans Studio Bandung adalah kawasan wisata ter...</td>\n",
       "      <td>Bandung</td>\n",
       "      <td>280000</td>\n",
       "      <td>4.5</td>\n",
       "      <td>240.0</td>\n",
       "      <td>{'lat': -6.9250943, 'lng': 107.6364944}</td>\n",
       "      <td>-6.925094</td>\n",
       "      <td>107.636494</td>\n",
       "      <td>['Hiburan', 'Keluarga']</td>\n",
       "    </tr>\n",
       "    <tr>\n",
       "      <th>214</th>\n",
       "      <td>215</td>\n",
       "      <td>Taman Hutan Raya Ir. H. Djuanda</td>\n",
       "      <td>Taman Hutan Raya Ir. H. Djuanda (Tahura Djuand...</td>\n",
       "      <td>Bandung</td>\n",
       "      <td>15000</td>\n",
       "      <td>4.5</td>\n",
       "      <td>90.0</td>\n",
       "      <td>{'lat': -6.8565791, 'lng': 107.6323734}</td>\n",
       "      <td>-6.856579</td>\n",
       "      <td>107.632373</td>\n",
       "      <td>['Alam', 'Relaksasi']</td>\n",
       "    </tr>\n",
       "  </tbody>\n",
       "</table>\n",
       "</div>"
      ],
      "text/plain": [
       "     Place_Id                       Place_Name  \\\n",
       "210       211          Gunung Tangkuban Parahu   \n",
       "213       214             Trans Studio Bandung   \n",
       "214       215  Taman Hutan Raya Ir. H. Djuanda   \n",
       "\n",
       "                                           Description     City   Price  \\\n",
       "210  Gunung Tangkuban Parahu adalah salah satu gunu...  Bandung   30000   \n",
       "213  Trans Studio Bandung adalah kawasan wisata ter...  Bandung  280000   \n",
       "214  Taman Hutan Raya Ir. H. Djuanda (Tahura Djuand...  Bandung   15000   \n",
       "\n",
       "     Rating  Time_Minutes                                       Coordinate  \\\n",
       "210     4.5           NaN  {'lat': -6.759637700000001, 'lng': 107.6097807}   \n",
       "213     4.5         240.0          {'lat': -6.9250943, 'lng': 107.6364944}   \n",
       "214     4.5          90.0          {'lat': -6.8565791, 'lng': 107.6323734}   \n",
       "\n",
       "          Lat        Long             new_category  \n",
       "210 -6.759638  107.609781  ['Alam', 'Petualangan']  \n",
       "213 -6.925094  107.636494  ['Hiburan', 'Keluarga']  \n",
       "214 -6.856579  107.632373    ['Alam', 'Relaksasi']  "
      ]
     },
     "execution_count": 153,
     "metadata": {},
     "output_type": "execute_result"
    }
   ],
   "source": [
    "test.head(3)"
   ]
  }
 ],
 "metadata": {
  "kernelspec": {
   "display_name": "base",
   "language": "python",
   "name": "python3"
  },
  "language_info": {
   "codemirror_mode": {
    "name": "ipython",
    "version": 3
   },
   "file_extension": ".py",
   "mimetype": "text/x-python",
   "name": "python",
   "nbconvert_exporter": "python",
   "pygments_lexer": "ipython3",
   "version": "3.9.12"
  },
  "orig_nbformat": 4
 },
 "nbformat": 4,
 "nbformat_minor": 2
}
